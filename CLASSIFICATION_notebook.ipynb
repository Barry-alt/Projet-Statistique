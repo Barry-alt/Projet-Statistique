{
 "cells": [
  {
   "cell_type": "markdown",
   "metadata": {},
   "source": [
    "<center> <h1> Classification Supervisée : Approche naive et KNN-DTW </h1></center>"
   ]
  },
  {
   "cell_type": "markdown",
   "metadata": {},
   "source": [
    "## I. Préliminaires"
   ]
  },
  {
   "cell_type": "markdown",
   "metadata": {},
   "source": [
    "**chargement des librairies**"
   ]
  },
  {
   "cell_type": "code",
   "execution_count": 117,
   "metadata": {},
   "outputs": [],
   "source": [
    "import os\n",
    "import numpy as np\n",
    "import cv2\n",
    "from matplotlib import pyplot as plt\n",
    "from matplotlib.figure import Figure\n",
    "from matplotlib.ticker import MaxNLocator\n",
    "\n",
    "# tslearn : for distance between curves/transition\n",
    "from tslearn import metrics as tsm\n",
    "\n",
    "# Data frame\n",
    "import pandas as pd\n",
    "\n",
    "# for barycenter\n",
    "from tslearn import barycenters as tsb\n",
    "from sklearn.model_selection import train_test_split\n",
    "# For visualisation in 2D\n",
    "from sklearn.manifold import TSNE\n",
    "import plotly.express as px\n",
    "# For score\n",
    "from sklearn import metrics\n",
    "from sklearn.metrics import accuracy_score\n",
    "from sklearn.metrics import precision_recall_fscore_support\n",
    "import pandas as pd \n",
    "from sklearn.metrics import confusion_matrix\n",
    "# Pour la visualisation de la matrice de confusion\n",
    "import seaborn as sns\n",
    "import math\n",
    "from math import sqrt\n",
    "import random\n",
    "from dtaidistance import dtw\n",
    "from scipy.spatial import distance\n",
    "from scipy.spatial.distance import cdist\n",
    "import warnings\n",
    "warnings.filterwarnings('ignore')"
   ]
  },
  {
   "cell_type": "markdown",
   "metadata": {},
   "source": [
    "## Fonctions utiles"
   ]
  },
  {
   "cell_type": "markdown",
   "metadata": {},
   "source": [
    "### Matrice de confusion"
   ]
  },
  {
   "cell_type": "code",
   "execution_count": 16,
   "metadata": {},
   "outputs": [],
   "source": [
    "def create_confusion_matrix(y_pred, y_test,LABEL_NAMES):    \n",
    "    #calculer la matrice de transition\n",
    "    confmat = confusion_matrix(y_true=y_test, y_pred=y_pred)\n",
    "    \n",
    "    fig, ax = plt.subplots(figsize=(4,4))\n",
    "    ax.imshow(confmat, cmap=plt.cm.Blues, alpha=2)\n",
    "\n",
    "    n_labels = len(LABEL_NAMES)\n",
    "    ax.set_xticks(np.arange(n_labels))\n",
    "    ax.set_yticks(np.arange(n_labels))\n",
    "    ax.set_xticklabels(LABEL_NAMES)\n",
    "    ax.set_yticklabels(LABEL_NAMES)\n",
    "\n",
    "    plt.setp(ax.get_xticklabels(), rotation=45, ha=\"right\", rotation_mode=\"anchor\")\n",
    "\n",
    "    for i in range(confmat.shape[0]):\n",
    "        for j in range(confmat.shape[1]):\n",
    "            ax.text(x=i, y=j, s=confmat[i, j], va='center', ha='center')\n",
    "    \n",
    "    bottom, top = ax.get_ylim()\n",
    "    ax.set_ylim(bottom + 0.5, top - 0.5)\n",
    "    \n",
    "\n",
    "    ax.set_xlabel('Classe prédite')\n",
    "    ax.set_ylabel('Vraie Classe')\n",
    "\n",
    "    plt.tight_layout()\n",
    "    plt.show()"
   ]
  },
  {
   "cell_type": "code",
   "execution_count": 96,
   "metadata": {},
   "outputs": [],
   "source": [
    "def confmatrice(confmat):\n",
    "    LABEL_NAMES=['wipe','dissolve','others']\n",
    "    fig, ax = plt.subplots(figsize=(4,4))\n",
    "    ax.imshow(confmat, cmap=plt.cm.Blues, alpha=2)\n",
    "    \n",
    "    n_labels = len(LABEL_NAMES)\n",
    "    ax.set_xticks(np.arange(n_labels))\n",
    "    ax.set_yticks(np.arange(n_labels))\n",
    "    ax.set_xticklabels(LABEL_NAMES)\n",
    "    ax.set_yticklabels(LABEL_NAMES)\n",
    "    plt.setp(ax.get_xticklabels(), rotation=90, ha=\"right\", rotation_mode=\"anchor\")\n",
    "    for i in range(confmat.shape[0]):\n",
    "        for j in range(confmat.shape[1]):\n",
    "            ax.text(x=i, y=j, s=confmat[i, j], va='center', ha='center')\n",
    "    bottom, top = ax.get_ylim()\n",
    "    ax.set_ylim(bottom + 0.5, top - 0.5)\n",
    "    \n",
    "    ax.set_xlabel('Classe prédite')\n",
    "    ax.set_ylabel('Vraie Classe')\n",
    "\n",
    "    plt.tight_layout()\n",
    "    plt.show()"
   ]
  },
  {
   "cell_type": "markdown",
   "metadata": {},
   "source": [
    "### Variance de pixels"
   ]
  },
  {
   "cell_type": "code",
   "execution_count": 17,
   "metadata": {},
   "outputs": [],
   "source": [
    "def variance(data):\n",
    "    var = []\n",
    "    for t in range(len(data)):\n",
    "        transition = []\n",
    "        for i in range(len(data[t])):\n",
    "            if(data[t][i] is not None ):\n",
    "                v=np.var(data[t][i], dtype=None)  \n",
    "                transition.append(v)\n",
    "            else:\n",
    "                pass\n",
    "        mean = np.mean(transition)\n",
    "        sd = np.sqrt(np.var(transition))\n",
    "          # Center\n",
    "        transition_z_normalized = transition - mean\n",
    "        if sd > 10 : \n",
    "            transition_z_normalized = transition_z_normalized/sd     \n",
    "        var.append(transition_z_normalized)\n",
    "    return var"
   ]
  },
  {
   "cell_type": "markdown",
   "metadata": {},
   "source": [
    "### Histogramme"
   ]
  },
  {
   "cell_type": "code",
   "execution_count": 18,
   "metadata": {},
   "outputs": [],
   "source": [
    "def histogramme(data):\n",
    "    hist_freq = []\n",
    "    \n",
    "    for t in range(len(data)):\n",
    "        transition = []\n",
    "        for i in range(len(data[t])):\n",
    "            # find frequency of pixels in range 0-255 \n",
    "            pixel_freq = cv2.calcHist([data[t][i]],[0],None,[255],[0,255])\n",
    "            transition.append(np.asarray(pixel_freq))\n",
    "        # On append pour chaque transition\n",
    "        hist_freq.append(transition)\n",
    "        \n",
    "    hist = []\n",
    "    for t in range(len(hist_freq)):\n",
    "        kumar_dist = consecutive_distance_Kumar(hist_freq[t])\n",
    "        mean = np.mean(kumar_dist)\n",
    "        sd = np.std(kumar_dist)\n",
    "    \n",
    "        kumar_dist_normalized = []\n",
    "    # Center\n",
    "        for d in range(len(kumar_dist)):\n",
    "            kumar_dist_normalized.append(kumar_dist[d] - mean)\n",
    "    # réduction\n",
    "        if sd > 2.6 : \n",
    "            for d in range(len(kumar_dist_normalized)):\n",
    "                kumar_dist_normalized[d] = kumar_dist_normalized[d]/sd\n",
    "        \n",
    "        hist.append(kumar_dist_normalized)\n",
    "    return hist"
   ]
  },
  {
   "cell_type": "markdown",
   "metadata": {},
   "source": [
    "### Nombre de contours"
   ]
  },
  {
   "cell_type": "code",
   "execution_count": 19,
   "metadata": {},
   "outputs": [],
   "source": [
    "# on calcule le nombre de contour pour chaque transition\n",
    "def Nbcontour(edges_img):\n",
    "    edges = []\n",
    "    for t in range(len(edges_img)):\n",
    "        transition = []\n",
    "        for i in range(len(edges_img[t])):      \n",
    "            # Find contours and perform contour approximation\n",
    "            cnts,_ = cv2.findContours(edges_img[t][i], cv2.RETR_TREE, cv2.CHAIN_APPROX_SIMPLE)\n",
    "            nb_edge =0\n",
    "            for c in cnts:\n",
    "                peri = cv2.arcLength(c, True)\n",
    "                approx = cv2.approxPolyDP(c, 0.0005 * peri, True)\n",
    "                nb_edge = nb_edge + len(approx)\n",
    "            transition.append(nb_edge)\n",
    "            # Z-normalisation\n",
    "        mean = np.mean(transition)\n",
    "        sd = np.std(transition)\n",
    "        if sd>0 :    \n",
    "            edges_normalized = (transition - mean)/sd\n",
    "        else :\n",
    "            edges_normalized = transition/np.max(transition[0])\n",
    "        edges.append(edges_normalized)\n",
    "    \n",
    "    return edges  "
   ]
  },
  {
   "cell_type": "markdown",
   "metadata": {},
   "source": [
    "### Les fonctions de distances "
   ]
  },
  {
   "cell_type": "code",
   "execution_count": 20,
   "metadata": {},
   "outputs": [],
   "source": [
    "# Calcul de la distance par rapport au barycentre\n",
    "\n",
    "def distance_par_rapport_au_barycentre(vecteur, barycentre):\n",
    "    d = tsm.cdist_dtw([vecteur, barycentre], global_constraint = 'sakoe_chiba')\n",
    "    return d[0,1]\n",
    "\n",
    "# Calcul de la distance min d'appartenance à la classe \n",
    "\n",
    "def distance_min(vecteur_classe,barycentre):\n",
    "    d=[]\n",
    "    for k in range(len(vecteur_classe)):\n",
    "        d.append(distance_par_rapport_au_barycentre(vecteur_classe[k], barycentre))\n",
    "    return max(d)\n",
    "\n",
    "def vectoriser(h):\n",
    "    vec=[]\n",
    "    for i in range(len(h)):\n",
    "        vec.append(float(h[i]))\n",
    "    return np.asarray(vec)\n",
    "\n",
    "# distance entre 2 histogrammes\n",
    "\n",
    "def pairwise_distance_Kumar(x,y):\n",
    "    '''\n",
    "    Compute pairwise distance between 2 histograms\n",
    "    :param x: histo 1\n",
    "    :type x: np array\n",
    "    :param y: histo2\n",
    "    :type y: np array\n",
    "    :return: distance\n",
    "    :rtype: float\n",
    "    '''\n",
    "    return np.sum(abs(x-y) / (1+x+y))\n",
    "\n",
    "# distance consécutives entre histogrammes\n",
    "\n",
    "def consecutive_distance_Kumar(features):\n",
    "    '''\n",
    "    Compute consecutive distances between elementwise of a list\n",
    "    :param features: features extracted from images\n",
    "    :type features: numpy array\n",
    "    :return: consecutive distances between consecutive images\n",
    "    :rtype: list\n",
    "    '''\n",
    "    N = len(features)\n",
    "    dist = []\n",
    "    for i in range(N-1):\n",
    "        dist.append(pairwise_distance_Kumar(features[i],features[i+1]))\n",
    "    return dist\n",
    "\n"
   ]
  },
  {
   "cell_type": "markdown",
   "metadata": {},
   "source": [
    "### Les fonctions de prédictions "
   ]
  },
  {
   "cell_type": "code",
   "execution_count": 21,
   "metadata": {},
   "outputs": [],
   "source": [
    "# Prediction variance de pixels\n",
    "\n",
    "def predict_var(X_test,k=3):\n",
    "    variance_test=variance(X_test)\n",
    "    y_pred=[]\n",
    "    for i in range(len(variance_test)): \n",
    "        #Calcul distance\n",
    "        dist = []\n",
    "        for j in range(k) :\n",
    "            dist.append(distance_par_rapport_au_barycentre(variance_test[i] , bar_class[j]))\n",
    "        dist=np.array(dist)\n",
    "        #Calcul probabilité distance.euclidean\n",
    "        prob=[]\n",
    "        for j in range(k):\n",
    "            prob.append( np.exp(-dist[j]**2/2*np.var(dist) )/sum(np.exp(- dist**2/2*np.var(dist))) )\n",
    "        y_pred.append(np.argmax(prob))\n",
    "        \n",
    "    return y_pred\n",
    "\n",
    "# Prediction : variance de pixels 2\n",
    "def predict_var1(data,k=3):\n",
    "    variance_test=variance(data)\n",
    "    y_pred=[]\n",
    "    for i in range(len(variance_test)): \n",
    "        #Calcul distance\n",
    "        dist = []\n",
    "        for j in range(k) :\n",
    "            dist.append(distance_par_rapport_au_barycentre(variance_test[i] , bar_class[j]))\n",
    "        dist=np.array(dist)\n",
    "        #Calcul probabilité distance.euclidean\n",
    "        for j in np.argsort(dmin):\n",
    "            if dist[j]<dmin[j] :\n",
    "                y=j\n",
    "        y_pred.append(y)\n",
    "    return y_pred\n",
    "# Prediction : variance de pixels 3\n",
    "def predict_var2(data,k=3):\n",
    "    variance_test=variance(data)\n",
    "    y_pred=[]\n",
    "    for i in range(len(variance_test)): \n",
    "        for j in range(k-1) :\n",
    "            d=dtw.distance(variance_test[i] , bar_class[j])\n",
    "            if d<dmin[j] :\n",
    "                y=j\n",
    "            else : \n",
    "                y=k\n",
    "        y_pred.append(y)\n",
    "    return y_pred"
   ]
  },
  {
   "cell_type": "code",
   "execution_count": 22,
   "metadata": {},
   "outputs": [],
   "source": [
    "def predict_hist(X_test,k=3):\n",
    "    histo=histogramme(X_test)\n",
    "    y_pred=[]\n",
    "    for i in range(len(histo)): \n",
    "        #Calcul distance\n",
    "        dist = []\n",
    "        for j in range(k) :\n",
    "            dist.append(distance_par_rapport_au_barycentre(histo[i] , bar_classh[j]))\n",
    "        dist=np.array(dist)\n",
    "        #Calcul probabilité\n",
    "        prob=[]\n",
    "        for j in range(k):\n",
    "            prob.append( np.exp(-dist[j]**2/2*np.var(dist) )/sum(np.exp(- dist**2/2*np.var(dist))) )\n",
    "        y_pred.append(np.argmax(prob))\n",
    "        \n",
    "    return y_pred"
   ]
  },
  {
   "cell_type": "code",
   "execution_count": 23,
   "metadata": {},
   "outputs": [],
   "source": [
    "def predict_edge(X_test,k=3):\n",
    "    Edge_test=Nbcontour(X_test)\n",
    "    y_pred=[]\n",
    "    for i in range(len(Edge_test)): \n",
    "        #Calcul distance\n",
    "        dist = []\n",
    "        for j in range(k) :\n",
    "            dist.append(distance_par_rapport_au_barycentre(Edge_test[i] , bar[j]))\n",
    "        dist=np.array(dist)\n",
    "        #Calcul probabilité\n",
    "        prob=[]\n",
    "        for j in range(k):\n",
    "            prob.append( np.exp(-dist[j]**2/2*np.var(dist) )/sum(np.exp(- dist**2/2*np.var(dist))) )\n",
    "        \n",
    "        y_pred.append(np.argmax(prob))\n",
    "        \n",
    "    return y_pred"
   ]
  },
  {
   "cell_type": "markdown",
   "metadata": {},
   "source": [
    "## Importation des données"
   ]
  },
  {
   "cell_type": "code",
   "execution_count": 24,
   "metadata": {},
   "outputs": [],
   "source": [
    "data = []\n",
    "for t in range(len(os.listdir(\"C:/Users/Adama/Desktop/data\"))):\n",
    "    # on se place dans un dossier transition t\n",
    "    DIR = \"C:/Users/Adama/Desktop/data/transition{}\".format(t)  #r'C:/Users/Adama/Desktop/data/transition{}'.format(t)\n",
    "    transition = []\n",
    "    # on lit les images en gris dans le dossier transition t\n",
    "    for i in range( len(os.listdir(DIR)) ):\n",
    "        transition.append(cv2.imread(r'C:/Users/Adama/Desktop/data/transition{}/img{}.png'.format(t,i),0))\n",
    "        \n",
    "    data.append(transition)"
   ]
  },
  {
   "cell_type": "code",
   "execution_count": 25,
   "metadata": {},
   "outputs": [],
   "source": [
    "del data[24]"
   ]
  },
  {
   "cell_type": "code",
   "execution_count": 26,
   "metadata": {},
   "outputs": [
    {
     "data": {
      "text/html": [
       "<div>\n",
       "<style scoped>\n",
       "    .dataframe tbody tr th:only-of-type {\n",
       "        vertical-align: middle;\n",
       "    }\n",
       "\n",
       "    .dataframe tbody tr th {\n",
       "        vertical-align: top;\n",
       "    }\n",
       "\n",
       "    .dataframe thead th {\n",
       "        text-align: right;\n",
       "    }\n",
       "</style>\n",
       "<table border=\"1\" class=\"dataframe\">\n",
       "  <thead>\n",
       "    <tr style=\"text-align: right;\">\n",
       "      <th></th>\n",
       "      <th>transitions</th>\n",
       "      <th>types</th>\n",
       "    </tr>\n",
       "  </thead>\n",
       "  <tbody>\n",
       "    <tr>\n",
       "      <th>0</th>\n",
       "      <td>transition0</td>\n",
       "      <td>rétrécissement</td>\n",
       "    </tr>\n",
       "    <tr>\n",
       "      <th>1</th>\n",
       "      <td>transition1</td>\n",
       "      <td>wipe</td>\n",
       "    </tr>\n",
       "    <tr>\n",
       "      <th>2</th>\n",
       "      <td>transition2</td>\n",
       "      <td>wipe</td>\n",
       "    </tr>\n",
       "    <tr>\n",
       "      <th>3</th>\n",
       "      <td>transition3</td>\n",
       "      <td>wipe</td>\n",
       "    </tr>\n",
       "    <tr>\n",
       "      <th>4</th>\n",
       "      <td>transition4</td>\n",
       "      <td>fondu/dissolve</td>\n",
       "    </tr>\n",
       "  </tbody>\n",
       "</table>\n",
       "</div>"
      ],
      "text/plain": [
       "   transitions           types\n",
       "0  transition0  rétrécissement\n",
       "1  transition1            wipe\n",
       "2  transition2            wipe\n",
       "3  transition3            wipe\n",
       "4  transition4  fondu/dissolve"
      ]
     },
     "execution_count": 26,
     "metadata": {},
     "output_type": "execute_result"
    }
   ],
   "source": [
    "transition_true_label = pd.read_excel('C:/Users/Adama/Desktop/transitions_types.xlsx')\n",
    "transition_true_label = transition_true_label.drop(24)\n",
    "transition_true_label.head(5)"
   ]
  },
  {
   "cell_type": "code",
   "execution_count": 27,
   "metadata": {},
   "outputs": [],
   "source": [
    "label=np.array([\"rétrécissement\",\"wipe\",\"wipe\",\"wipe\",\"dissolve\",\"wipe\",\n",
    "                \"wipe\",\"wipe\",\"dissolve\",\"dissolve\",\"dissolve\",\"dissolve\",\"wipe\",\"dissolve\",\n",
    "                \"dissolve\",\"dissolve\",\"rotations verticales\",\"dissolve\",\"dissolve\",\n",
    "                \"rotations horizontales\",\"wipe\",\"wipe\",\"rotations verticales\",\"dissolve\",\n",
    "                \"dissolve\",\"dissolve\",\"dissolve\",\"dissolve\",\"dissolve\",\"dissolve\",\n",
    "                \"dissolve\",\"dissolve\",\"page tournée\",\"wipe\",\"wipe\",\"page tournée\"])\n",
    "y=pd.Series(label).map({'wipe':0,'dissolve':1,'rétrécissement':2,'rotations verticales':2,'rotations horizontales':2,\n",
    "\n",
    "                        'page tournée':2})"
   ]
  },
  {
   "cell_type": "markdown",
   "metadata": {},
   "source": [
    "# VARIANCE DE PIXELS"
   ]
  },
  {
   "cell_type": "code",
   "execution_count": 106,
   "metadata": {},
   "outputs": [
    {
     "name": "stdout",
     "output_type": "stream",
     "text": [
      "52.440529100529105\n",
      "40.892095558762236\n"
     ]
    }
   ],
   "source": [
    "n=30\n",
    "recall=[]\n",
    "precision=[]\n",
    "matricedeconf=[]\n",
    "for i in range(n):\n",
    "    data_train, data_test, y_train, y_test = train_test_split(data, y, test_size=16)\n",
    "    \n",
    "    var=variance(data_train)\n",
    "    \n",
    "    class_0=np.where(y_train==0)\n",
    "    class_1=np.where(y_train==1)\n",
    "    class_2=np.where(y_train==2)\n",
    "    \n",
    "    var_class_0 = []\n",
    "    var_class_1 = []\n",
    "    var_class_2 = []\n",
    "    \n",
    "    for t in list(class_0[0]):\n",
    "        var_class_0.append(var[t])\n",
    "        \n",
    "    for t in list(class_1[0]):\n",
    "        var_class_1.append(var[t])  \n",
    "        \n",
    "    for t in list(class_2[0]):\n",
    "        var_class_2.append(var[t])\n",
    "        \n",
    "    bar_class_0 = tsb.dtw_barycenter_averaging(var_class_0)\n",
    "    bar_class_1 = tsb.dtw_barycenter_averaging(var_class_1)\n",
    "    bar_class_2 = tsb.dtw_barycenter_averaging(var_class_2)\n",
    "    bar_class=[bar_class_0,bar_class_1,bar_class_2]\n",
    "    \n",
    "    y_pred=predict_var(data_test,k=3)\n",
    "    label1=['wipe','dissolve','Autres'] \n",
    "    #print(\"Accuracy: %.2f%%\" % (accuracy_score(y_pred, y_test) * 100.0))\n",
    "    #create_confusion_matrix(y_pred, y_test,label1)\n",
    "    \n",
    "    a=precision_recall_fscore_support(y_test, y_pred, average='macro')\n",
    "    recall.append(a[0]*100)\n",
    "    precision.append(a[1]*100)\n",
    "    matricedeconf.append(confusion_matrix(y_test, y_pred))\n",
    "    \n",
    "\n",
    "print(np.mean(precision))\n",
    "print(np.mean(recall))\n",
    "\n",
    "#print(matricedeconf)"
   ]
  },
  {
   "cell_type": "markdown",
   "metadata": {},
   "source": [
    "### Matrice de confusion moyennée"
   ]
  },
  {
   "cell_type": "code",
   "execution_count": 94,
   "metadata": {},
   "outputs": [
    {
     "name": "stdout",
     "output_type": "stream",
     "text": [
      "[[1.20689655 2.06896552 1.20689655]\n",
      " [2.5862069  5.06896552 1.03448276]\n",
      " [1.27586207 0.27586207 1.27586207]]\n",
      "[[1.21 2.07 1.21]\n",
      " [2.59 5.07 1.03]\n",
      " [1.28 0.28 1.28]]\n"
     ]
    }
   ],
   "source": [
    "M=np.zeros((3,3))\n",
    "nb=0\n",
    "for i in range(len(matricedeconf)):\n",
    "    if M.shape == matricedeconf[i].shape :\n",
    "        M=M+matricedeconf[i]\n",
    "        nb=nb+1\n",
    "print(M/nb)\n",
    "print(np.around(M/nb,decimals=2))"
   ]
  },
  {
   "cell_type": "code",
   "execution_count": 95,
   "metadata": {},
   "outputs": [
    {
     "data": {
      "image/png": "[encoded data removed]",
      "text/plain": [
       "<Figure size 288x288 with 1 Axes>"
      ]
     },
     "metadata": {
      "needs_background": "light"
     },
     "output_type": "display_data"
    }
   ],
   "source": [
    "confmatrice(np.around(M/nb,decimals=2))"
   ]
  },
  {
   "cell_type": "markdown",
   "metadata": {},
   "source": [
    "# HISTOGRAMME DE COULEURS"
   ]
  },
  {
   "cell_type": "code",
   "execution_count": 107,
   "metadata": {},
   "outputs": [
    {
     "name": "stdout",
     "output_type": "stream",
     "text": [
      "45.76374859708194\n",
      "41.495149911816576\n"
     ]
    }
   ],
   "source": [
    "n=30\n",
    "recall=[]\n",
    "precision=[]\n",
    "matricedeconf=[]\n",
    "for i in range(n):\n",
    "    data_train, data_test, y_train, y_test = train_test_split(data, y, test_size=16)\n",
    "    \n",
    "    hist=histogramme(data_train)\n",
    "    \n",
    "    class_0=np.where(y_train==0)\n",
    "    class_1=np.where(y_train==1)\n",
    "    class_2=np.where(y_train==2)\n",
    "    \n",
    "    hist_class_0 = []\n",
    "    hist_class_1 = []\n",
    "    hist_class_2 = []\n",
    "    \n",
    "    for t in list(class_0[0]):\n",
    "        hist_class_0.append(hist[t])\n",
    "        \n",
    "    for t in list(class_1[0]):\n",
    "        hist_class_1.append(hist[t])  \n",
    "        \n",
    "    for t in list(class_2[0]):\n",
    "        hist_class_2.append(hist[t])\n",
    "        \n",
    "    bar_0 = tsb.dtw_barycenter_averaging(hist_class_0)\n",
    "    bar_1 = tsb.dtw_barycenter_averaging(hist_class_1)\n",
    "    bar_2 = tsb.dtw_barycenter_averaging(hist_class_2)\n",
    "    bar_classh=[bar_0,bar_1,bar_2]\n",
    "    \n",
    "    y_pred=predict_hist(data_test,k=3)\n",
    "    label1=['wipe','dissolve','Autres'] \n",
    "    #print(\"Accuracy: %.2f%%\" % (accuracy_score(y_pred, y_test) * 100.0))\n",
    "    #create_confusion_matrix(y_pred, y_test,label1)\n",
    "    \n",
    "    a=precision_recall_fscore_support(y_test, y_pred, average='macro')\n",
    "    recall.append(a[0]*100)\n",
    "    precision.append(a[1]*100)\n",
    "    matricedeconf.append(confusion_matrix(y_test, y_pred))\n",
    "    \n",
    "\n",
    "print(np.mean(precision))\n",
    "print(np.mean(recall))"
   ]
  },
  {
   "cell_type": "markdown",
   "metadata": {},
   "source": [
    "### Matrice de confusion moyennée"
   ]
  },
  {
   "cell_type": "code",
   "execution_count": 99,
   "metadata": {},
   "outputs": [
    {
     "name": "stdout",
     "output_type": "stream",
     "text": [
      "[[1.93333333 2.2        0.63333333]\n",
      " [1.96666667 3.8        2.8       ]\n",
      " [0.33333333 0.63333333 1.7       ]]\n",
      "[[2. 2. 1.]\n",
      " [2. 4. 3.]\n",
      " [0. 1. 2.]]\n"
     ]
    }
   ],
   "source": [
    "M=np.zeros((3,3))\n",
    "nb=0\n",
    "for i in range(len(matricedeconf)):\n",
    "    if M.shape == matricedeconf[i].shape :\n",
    "        M=M+matricedeconf[i]\n",
    "        nb=nb+1\n",
    "print(M/nb)\n",
    "print(np.around(M/nb,decimals=0))"
   ]
  },
  {
   "cell_type": "code",
   "execution_count": 100,
   "metadata": {},
   "outputs": [
    {
     "data": {
      "image/png": "[encoded data removed]",
      "text/plain": [
       "<Figure size 288x288 with 1 Axes>"
      ]
     },
     "metadata": {
      "needs_background": "light"
     },
     "output_type": "display_data"
    }
   ],
   "source": [
    "confmatrice(np.around(M/nb,decimals=2))"
   ]
  },
  {
   "cell_type": "markdown",
   "metadata": {},
   "source": [
    "# NOMBRE DE CONTOURS "
   ]
  },
  {
   "cell_type": "code",
   "execution_count": 108,
   "metadata": {},
   "outputs": [
    {
     "name": "stdout",
     "output_type": "stream",
     "text": [
      "32.05731922398589\n",
      "34.933181016514354\n"
     ]
    }
   ],
   "source": [
    "n=30\n",
    "recall=[]\n",
    "precision=[]\n",
    "matricedeconf=[]\n",
    "for i in range(n):\n",
    "    data_train, data_test, y_train, y_test = train_test_split(data, y, test_size=16)\n",
    "    \n",
    "    Edge_train=Nbcontour(data_train)\n",
    "    \n",
    "    class_0=np.where(y_train==0)\n",
    "    class_1=np.where(y_train==1)\n",
    "    class_2=np.where(y_train==2)\n",
    "    \n",
    "    edges_class_0 = []\n",
    "    edges_class_1 = []\n",
    "    edges_class_2 = []\n",
    "    \n",
    "    for t in list(class_0[0]):\n",
    "        edges_class_0.append(Edge_train[t])\n",
    "        \n",
    "    for t in list(class_1[0]):\n",
    "        edges_class_1.append(Edge_train[t]) \n",
    "        \n",
    "    for t in list(class_2[0]):\n",
    "        edges_class_2.append(Edge_train[t])\n",
    "        \n",
    "    bar_0 = tsb.dtw_barycenter_averaging(edges_class_0)\n",
    "    bar_1 = tsb.dtw_barycenter_averaging(edges_class_1)\n",
    "    bar_2 = tsb.dtw_barycenter_averaging(edges_class_2)\n",
    "    bar=[bar_0,bar_1,bar_2]\n",
    "    \n",
    "    y_pred=predict_edge(data_test,k=3)\n",
    "    label1=['wipe','dissolve','Autres'] \n",
    "    #print(\"Accuracy: %.2f%%\" % (accuracy_score(y_pred, y_test) * 100.0))\n",
    "    #create_confusion_matrix(y_pred, y_test,label1)\n",
    "    \n",
    "    a=precision_recall_fscore_support(y_test, y_pred, average='macro')\n",
    "    recall.append(a[0]*100)\n",
    "    precision.append(a[1]*100)\n",
    "    matricedeconf.append(confusion_matrix(y_test, y_pred))\n",
    "    \n",
    "\n",
    "print(np.mean(precision))\n",
    "print(np.mean(recall))"
   ]
  },
  {
   "cell_type": "markdown",
   "metadata": {},
   "source": [
    "### Matrice de confusion moyennée"
   ]
  },
  {
   "cell_type": "code",
   "execution_count": 103,
   "metadata": {},
   "outputs": [
    {
     "name": "stdout",
     "output_type": "stream",
     "text": [
      "[[1.5        1.03333333 2.56666667]\n",
      " [2.06666667 3.86666667 2.3       ]\n",
      " [1.36666667 0.73333333 0.56666667]]\n",
      "[[2. 1. 3.]\n",
      " [2. 4. 2.]\n",
      " [1. 1. 1.]]\n"
     ]
    }
   ],
   "source": [
    "M=np.zeros((3,3))\n",
    "nb=0\n",
    "for i in range(len(matricedeconf)):\n",
    "    if M.shape == matricedeconf[i].shape :\n",
    "        M=M+matricedeconf[i]\n",
    "        nb=nb+1\n",
    "print(M/nb)\n",
    "print(np.around(M/nb,decimals=0))"
   ]
  },
  {
   "cell_type": "code",
   "execution_count": 104,
   "metadata": {},
   "outputs": [
    {
     "data": {
      "image/png": "[encoded data removed]",
      "text/plain": [
       "<Figure size 288x288 with 1 Axes>"
      ]
     },
     "metadata": {
      "needs_background": "light"
     },
     "output_type": "display_data"
    }
   ],
   "source": [
    "confmatrice(np.around(M/nb,decimals=2))"
   ]
  },
  {
   "cell_type": "markdown",
   "metadata": {},
   "source": [
    "## Analyse des distances pour la caractéristique variance"
   ]
  },
  {
   "cell_type": "code",
   "execution_count": 159,
   "metadata": {},
   "outputs": [],
   "source": [
    "def predict_vard(X_test,k=3):\n",
    "    variance_test=variance(X_test)\n",
    "    y_pred=[]\n",
    "    distD=[]\n",
    "    for i in range(len(variance_test)): \n",
    "        #Calcul distance\n",
    "        dist = []\n",
    "        for j in range(k) :\n",
    "            dist.append(distance_par_rapport_au_barycentre(variance_test[i] , bar_class[j]))\n",
    "        dist=np.array(dist)\n",
    "        distD.append(dist)\n",
    "        #Calcul probabilité distance.euclidean\n",
    "        prob=[]\n",
    "        distp=[]\n",
    "        for j in range(k):\n",
    "            prob.append( np.exp(-dist[j]**2/2*np.var(dist) )/sum(np.exp(- dist**2/2*np.var(dist))) )\n",
    "        y_pred.append(np.argmax(prob))\n",
    "        \n",
    "    return y_pred,distD"
   ]
  },
  {
   "cell_type": "code",
   "execution_count": 177,
   "metadata": {},
   "outputs": [],
   "source": [
    "\n",
    "data_train, data_test, y_train, y_test = train_test_split(data, y, test_size=16)\n",
    "    \n",
    "var=variance(data_train)\n",
    "    \n",
    "class_0=np.where(y_train==0)\n",
    "class_1=np.where(y_train==1)\n",
    "class_2=np.where(y_train==2)\n",
    "    \n",
    "var_class_0 = []\n",
    "var_class_1 = []\n",
    "var_class_2 = []\n",
    "    \n",
    "for t in list(class_0[0]):\n",
    "    var_class_0.append(var[t])\n",
    "        \n",
    "for t in list(class_1[0]):\n",
    "    var_class_1.append(var[t])  \n",
    "        \n",
    "for t in list(class_2[0]):\n",
    "    var_class_2.append(var[t])\n",
    "        \n",
    "bar_class_0 = tsb.dtw_barycenter_averaging(var_class_0)\n",
    "bar_class_1 = tsb.dtw_barycenter_averaging(var_class_1)\n",
    "bar_class_2 = tsb.dtw_barycenter_averaging(var_class_2)\n",
    "bar_class=[bar_class_0,bar_class_1,bar_class_2]\n",
    "    \n",
    "y_pred,D=predict_vard(data_test,k=3)\n"
   ]
  },
  {
   "cell_type": "code",
   "execution_count": 178,
   "metadata": {},
   "outputs": [
    {
     "name": "stdout",
     "output_type": "stream",
     "text": [
      "   Classe prédite  D-barycentre0  D-barycentre1  D-barycentre2\n",
      "1               0       2.459989       2.883726       2.910311\n",
      "1               1       3.320490       1.563020       3.418373\n",
      "1               1       3.206017       1.629752       3.576828\n",
      "1               1       2.809795       1.930945       3.496074\n",
      "0               1       2.609696       2.099989       3.145314\n",
      "2               1       3.978971       2.370044       3.008260\n",
      "1               0       2.225024       2.722334       2.453082\n",
      "1               1       2.512167       1.722968       3.406355\n",
      "1               1       3.310547       2.177191       3.269410\n",
      "2               0       1.704995       2.665633       2.398299\n",
      "1               0       1.860242       2.344207       2.688723\n",
      "2               2       1.804732       2.856092       1.413118\n",
      "0               1       3.023876       2.814198       3.067632\n",
      "2               0       2.206133       2.728965       2.287982\n",
      "0               1       2.326181       1.991449       3.006543\n",
      "0               0       2.653872       2.958074       3.015359\n"
     ]
    }
   ],
   "source": [
    "col1=[\"D-barycentre0\",\"D-barycentre1\",\"D-barycentre2\"]\n",
    "col2=[\"Classe prédite\"]\n",
    "Df1=pd.DataFrame(D,index=y_test,columns=col1)\n",
    "Df2=pd.DataFrame(y_pred,index=y_test,columns=col2)\n",
    "Df=pd.concat([Df2,Df1],axis=1)\n",
    "print(Df)"
   ]
  },
  {
   "cell_type": "markdown",
   "metadata": {},
   "source": [
    "# KNN-DTW"
   ]
  },
  {
   "cell_type": "markdown",
   "metadata": {},
   "source": [
    "# Fonctions Utiles"
   ]
  },
  {
   "cell_type": "code",
   "execution_count": 112,
   "metadata": {},
   "outputs": [],
   "source": [
    "def DTWDistance(s1, s2,w):\n",
    "    DTW={}\n",
    "    \n",
    "    w = max(w, abs(len(s1)-len(s2)))\n",
    "    \n",
    "    for i in range(-1,len(s1)):\n",
    "        for j in range(-1,len(s2)):\n",
    "            DTW[(i, j)] = float('inf')\n",
    "    DTW[(-1, -1)] = 0\n",
    "  \n",
    "    for i in range(len(s1)):\n",
    "        for j in range(max(0, i-w), min(len(s2), i+w)):\n",
    "            dist= (s1[i]-s2[j])**2\n",
    "            DTW[(i, j)] = dist + min(DTW[(i-1, j)],DTW[(i, j-1)], DTW[(i-1, j-1)])\n",
    "\n",
    "    return sqrt(DTW[len(s1)-1, len(s2)-1])"
   ]
  },
  {
   "cell_type": "code",
   "execution_count": 145,
   "metadata": {},
   "outputs": [],
   "source": [
    "def LB_Keogh(s1,s2,r):\n",
    "    LB_sum=0\n",
    "    for ind,i in enumerate(s1):\n",
    "        \n",
    "        lower_bound=min(s2[(ind-r if ind-r>=0 else 0):(ind+r)])\n",
    "        upper_bound=max(s2[(ind-r if ind-r>=0 else 0):(ind+r)])\n",
    "        \n",
    "        if i>upper_bound:\n",
    "            LB_sum=LB_sum+(i-upper_bound)**2\n",
    "        elif i<lower_bound:\n",
    "            LB_sum=LB_sum+(i-lower_bound)**2\n",
    "    \n",
    "    return sqrt(LB_sum)"
   ]
  },
  {
   "cell_type": "code",
   "execution_count": 150,
   "metadata": {},
   "outputs": [],
   "source": [
    "def knn_dtw(train,test,y_train,w):\n",
    "    preds=[]\n",
    "    y=y_train.tolist()\n",
    "    for ind,i in enumerate(test):\n",
    "        min_dist=float('inf')\n",
    "        #print ind\n",
    "        closest_seq=2 #Classes others\n",
    "        for j in range(len(train)):\n",
    "            if LB_Keogh(i[:-1],train[j],20)<min_dist:\n",
    "                dist=DTWDistance(i[:-1],train[j],w)\n",
    "                if dist<min_dist:\n",
    "                    min_dist=dist\n",
    "                    closest_seq=y[j]\n",
    "        preds.append(closest_seq)\n",
    "    return preds"
   ]
  },
  {
   "cell_type": "markdown",
   "metadata": {},
   "source": [
    "# Variance de pixels"
   ]
  },
  {
   "cell_type": "code",
   "execution_count": 158,
   "metadata": {},
   "outputs": [
    {
     "name": "stdout",
     "output_type": "stream",
     "text": [
      "59.3903318903319\n",
      "54.208980833980824\n"
     ]
    }
   ],
   "source": [
    "n=30\n",
    "recall=[]\n",
    "precision=[]\n",
    "matricedeconf=[]\n",
    "for i in range(n):\n",
    "    data_train, data_test, y_train, y_test = train_test_split(data, y, test_size=16)\n",
    "    \n",
    "    var=variance(data_train)\n",
    "    var_test=variance(data_test)\n",
    "    \n",
    "    w=2\n",
    "    y_pred=knn_dtw(var,var_test,y_train,w)\n",
    "\n",
    "    label1=['wipe','dissolve','Autres'] \n",
    "    #print(\"Accuracy: %.2f%%\" % (accuracy_score(y_pred, y_test) * 100.0))\n",
    "    #create_confusion_matrix(y_pred, y_test,label1)\n",
    "    \n",
    "    a=precision_recall_fscore_support(y_test, y_pred, average='macro')\n",
    "    recall.append(a[0]*100)\n",
    "    precision.append(a[1]*100)\n",
    "    matricedeconf.append(confusion_matrix(y_test, y_pred))\n",
    "    \n",
    "\n",
    "print(np.mean(precision))\n",
    "print(np.mean(recall))\n",
    "\n",
    "#print(matricedeconf)"
   ]
  },
  {
   "cell_type": "code",
   "execution_count": 152,
   "metadata": {},
   "outputs": [
    {
     "name": "stdout",
     "output_type": "stream",
     "text": [
      "[[0.93333333 2.63333333 1.5       ]\n",
      " [1.7        5.23333333 1.36666667]\n",
      " [1.13333333 1.         0.5       ]]\n",
      "[[0.93 2.63 1.5 ]\n",
      " [1.7  5.23 1.37]\n",
      " [1.13 1.   0.5 ]]\n"
     ]
    }
   ],
   "source": [
    "M=np.zeros((3,3))\n",
    "nb=0\n",
    "for i in range(len(matricedeconf)):\n",
    "    if M.shape == matricedeconf[i].shape :\n",
    "        M=M+matricedeconf[i]\n",
    "        nb=nb+1\n",
    "print(M/nb)\n",
    "print(np.around(M/nb,decimals=2))"
   ]
  },
  {
   "cell_type": "code",
   "execution_count": 153,
   "metadata": {},
   "outputs": [
    {
     "data": {
      "image/png": "[encoded data removed]",
      "text/plain": [
       "<Figure size 288x288 with 1 Axes>"
      ]
     },
     "metadata": {
      "needs_background": "light"
     },
     "output_type": "display_data"
    }
   ],
   "source": [
    "confmatrice(np.around(M/nb,decimals=2))"
   ]
  },
  {
   "cell_type": "markdown",
   "metadata": {},
   "source": [
    "# Histogramme"
   ]
  },
  {
   "cell_type": "code",
   "execution_count": 154,
   "metadata": {},
   "outputs": [
    {
     "name": "stdout",
     "output_type": "stream",
     "text": [
      "41.69620811287477\n",
      "43.360694860694856\n"
     ]
    }
   ],
   "source": [
    "n=30\n",
    "recall=[]\n",
    "precision=[]\n",
    "matricedeconf=[]\n",
    "for i in range(n):\n",
    "    data_train, data_test, y_train, y_test = train_test_split(data, y, test_size=16)\n",
    "    \n",
    "    hist=histogramme(data_train)\n",
    "    hist_test=histogramme(data_test)\n",
    "    \n",
    "    y_pred=knn_dtw(hist,hist_test,y_train,w=4)\n",
    "    label1=['wipe','dissolve','Autres'] \n",
    "    #print(\"Accuracy: %.2f%%\" % (accuracy_score(y_pred, y_test) * 100.0))\n",
    "    #create_confusion_matrix(y_pred, y_test,label1)\n",
    "    \n",
    "    a=precision_recall_fscore_support(y_test, y_pred, average='macro')\n",
    "    recall.append(a[0]*100)\n",
    "    precision.append(a[1]*100)\n",
    "    matricedeconf.append(confusion_matrix(y_test, y_pred))\n",
    "    \n",
    "\n",
    "print(np.mean(precision))\n",
    "print(np.mean(recall))"
   ]
  },
  {
   "cell_type": "markdown",
   "metadata": {},
   "source": [
    "### Matrice de confusion moyennée"
   ]
  },
  {
   "cell_type": "code",
   "execution_count": 155,
   "metadata": {},
   "outputs": [
    {
     "name": "stdout",
     "output_type": "stream",
     "text": [
      "[[1.26666667 3.         0.76666667]\n",
      " [0.96666667 6.         1.2       ]\n",
      " [0.73333333 1.53333333 0.53333333]]\n",
      "[[1. 3. 1.]\n",
      " [1. 6. 1.]\n",
      " [1. 2. 1.]]\n"
     ]
    }
   ],
   "source": [
    "M=np.zeros((3,3))\n",
    "nb=0\n",
    "for i in range(len(matricedeconf)):\n",
    "    if M.shape == matricedeconf[i].shape :\n",
    "        M=M+matricedeconf[i]\n",
    "        nb=nb+1\n",
    "print(M/nb)\n",
    "print(np.around(M/nb,decimals=0))"
   ]
  },
  {
   "cell_type": "code",
   "execution_count": 156,
   "metadata": {},
   "outputs": [
    {
     "data": {
      "image/png": "[encoded data removed]",
      "text/plain": [
       "<Figure size 288x288 with 1 Axes>"
      ]
     },
     "metadata": {
      "needs_background": "light"
     },
     "output_type": "display_data"
    }
   ],
   "source": [
    "confmatrice(np.around(M/nb,decimals=2))"
   ]
  },
  {
   "cell_type": "markdown",
   "metadata": {},
   "source": [
    "# Nombre de contours"
   ]
  },
  {
   "cell_type": "code",
   "execution_count": 157,
   "metadata": {},
   "outputs": [
    {
     "name": "stdout",
     "output_type": "stream",
     "text": [
      "28.381954465287794\n",
      "28.42885201218535\n"
     ]
    }
   ],
   "source": [
    "n=30\n",
    "recall=[]\n",
    "precision=[]\n",
    "matricedeconf=[]\n",
    "for i in range(n):\n",
    "    data_train, data_test, y_train, y_test = train_test_split(data, y, test_size=16)\n",
    "    \n",
    "    Edge_train=Nbcontour(data_train)\n",
    "    Edge_test=Nbcontour(data_test)\n",
    "    \n",
    "    y_pred=knn_dtw(Edge_train,Edge_test,y_train,w=4)\n",
    "    label1=['wipe','dissolve','Autres'] \n",
    "    #print(\"Accuracy: %.2f%%\" % (accuracy_score(y_pred, y_test) * 100.0))\n",
    "    #create_confusion_matrix(y_pred, y_test,label1)\n",
    "    \n",
    "    a=precision_recall_fscore_support(y_test, y_pred, average='macro')\n",
    "    recall.append(a[0]*100)\n",
    "    precision.append(a[1]*100)\n",
    "    matricedeconf.append(confusion_matrix(y_test, y_pred))\n",
    "    \n",
    "\n",
    "print(np.mean(precision))\n",
    "print(np.mean(recall))"
   ]
  },
  {
   "cell_type": "markdown",
   "metadata": {},
   "source": [
    "## Matrice de confusion moyennée"
   ]
  },
  {
   "cell_type": "code",
   "execution_count": 130,
   "metadata": {},
   "outputs": [
    {
     "name": "stdout",
     "output_type": "stream",
     "text": [
      "[[0.76666667 2.36666667 2.        ]\n",
      " [1.53333333 4.96666667 1.96666667]\n",
      " [0.93333333 1.43333333 0.03333333]]\n",
      "[[1. 2. 2.]\n",
      " [2. 5. 2.]\n",
      " [1. 1. 0.]]\n"
     ]
    }
   ],
   "source": [
    "M=np.zeros((3,3))\n",
    "nb=0\n",
    "for i in range(len(matricedeconf)):\n",
    "    if M.shape == matricedeconf[i].shape :\n",
    "        M=M+matricedeconf[i]\n",
    "        nb=nb+1\n",
    "print(M/nb)\n",
    "print(np.around(M/nb,decimals=0))"
   ]
  },
  {
   "cell_type": "code",
   "execution_count": 131,
   "metadata": {},
   "outputs": [
    {
     "data": {
      "image/png": "[encoded data removed]",
      "text/plain": [
       "<Figure size 288x288 with 1 Axes>"
      ]
     },
     "metadata": {
      "needs_background": "light"
     },
     "output_type": "display_data"
    }
   ],
   "source": [
    "confmatrice(np.around(M/nb,decimals=2))"
   ]
  }
 ],
 "metadata": {
  "kernelspec": {
   "display_name": "Python 3",
   "language": "python",
   "name": "python3"
  },
  "language_info": {
   "codemirror_mode": {
    "name": "ipython",
    "version": 3
   },
   "file_extension": ".py",
   "mimetype": "text/x-python",
   "name": "python",
   "nbconvert_exporter": "python",
   "pygments_lexer": "ipython3",
   "version": "3.6.13"
  }
 },
 "nbformat": 4,
 "nbformat_minor": 4
}
